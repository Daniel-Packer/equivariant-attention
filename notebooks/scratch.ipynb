{
 "cells": [
  {
   "cell_type": "code",
   "execution_count": 1,
   "metadata": {},
   "outputs": [],
   "source": [
    "import numpy as np\n",
    "import matplotlib.pyplot as plt\n",
    "from matplotlib import colormaps\n",
    "\n",
    "rng = np.random.default_rng()"
   ]
  },
  {
   "cell_type": "code",
   "execution_count": 2,
   "metadata": {},
   "outputs": [],
   "source": [
    "def get_rotation_matrix(theta):\n",
    "    return np.array([[np.cos(theta), -np.sin(theta)],\n",
    "                     [np.sin(theta), np.cos(theta)]])\n",
    "\n",
    "# Get the first representation\n",
    "def get_rho_V(n):\n",
    "  return np.stack([get_rotation_matrix(2*np.pi*i/n) for i in range(n)])"
   ]
  },
  {
   "cell_type": "code",
   "execution_count": 3,
   "metadata": {},
   "outputs": [
    {
     "data": {
      "text/plain": [
       "<matplotlib.collections.PathCollection at 0x7f4d963c2350>"
      ]
     },
     "execution_count": 3,
     "metadata": {},
     "output_type": "execute_result"
    },
    {
     "data": {
      "image/png": "[encoded data removed]",
      "text/plain": [
       "<Figure size 1200x500 with 2 Axes>"
      ]
     },
     "metadata": {},
     "output_type": "display_data"
    }
   ],
   "source": [
    "n = 3\n",
    "rho_V = get_rho_V(n)\n",
    "# \"Square\" the representation\n",
    "rho_W = [mat @ mat for mat in rho_V]\n",
    "\n",
    "# To check that the representations are what we want, we plot them below\n",
    "x = np.array([1, 0])\n",
    "\n",
    "fig, axs = plt.subplots(1, 2, figsize=(12, 5))\n",
    "axs[0].scatter((rho_V @ x)[:, 0], (rho_V @ x)[:, 1], c=range(n), cmap=colormaps.get_cmap(\"viridis\"))\n",
    "axs[1].scatter((rho_W @ x)[:, 0], (rho_W @ x)[:, 1], c=range(n), cmap=colormaps.get_cmap(\"viridis\"))"
   ]
  },
  {
   "cell_type": "code",
   "execution_count": 4,
   "metadata": {},
   "outputs": [
    {
     "name": "stdout",
     "output_type": "stream",
     "text": [
      "n=3\n",
      "[-0.5+0.8660254j -0.5-0.8660254j]\n",
      "[-0.5+0.8660254j -0.5-0.8660254j]\n",
      "--------------------\n",
      "n=5\n",
      "[0.30901699+0.95105652j 0.30901699-0.95105652j]\n",
      "[-0.80901699+0.58778525j -0.80901699-0.58778525j]\n",
      "--------------------\n"
     ]
    }
   ],
   "source": [
    "# For n = 3\n",
    "n = 3\n",
    "rho_V = get_rho_V(n)\n",
    "# \"Square\" the representation\n",
    "rho_W = [mat @ mat for mat in rho_V]\n",
    "\n",
    "print(f\"{n=}\")\n",
    "print(np.linalg.eig(rho_V[1])[0])\n",
    "print(np.linalg.eig(rho_W[1])[0])\n",
    "print(\"--------------------\")\n",
    "\n",
    "# For n = 5\n",
    "n = 5\n",
    "rho_V = get_rho_V(n)\n",
    "# \"Square\" the representation\n",
    "rho_W = [mat @ mat for mat in rho_V]\n",
    "\n",
    "print(f\"{n=}\")\n",
    "print(np.linalg.eig(rho_V[1])[0])\n",
    "print(np.linalg.eig(rho_W[1])[0])\n",
    "print(\"--------------------\")"
   ]
  },
  {
   "cell_type": "code",
   "execution_count": 8,
   "metadata": {},
   "outputs": [
    {
     "data": {
      "text/plain": [
       "True"
      ]
     },
     "execution_count": 8,
     "metadata": {},
     "output_type": "execute_result"
    }
   ],
   "source": [
    "n = 6\n",
    "rho_V = get_rho_V(n)\n",
    "# \"Square\" the representation\n",
    "rho_W = [mat @ mat for mat in rho_V]\n",
    "y = rng.normal(size=(2))\n",
    "coefs = (rho_W @ x) @ y\n",
    "synthesized = (rho_W @ x).T @ coefs * (2 / n)\n",
    "\n",
    "np.allclose(synthesized, y)"
   ]
  },
  {
   "cell_type": "code",
   "execution_count": 9,
   "metadata": {},
   "outputs": [
    {
     "data": {
      "text/plain": [
       "array([ 1.14536565, -0.273273  ])"
      ]
     },
     "execution_count": 9,
     "metadata": {},
     "output_type": "execute_result"
    }
   ],
   "source": [
    "synthesized"
   ]
  },
  {
   "cell_type": "code",
   "execution_count": null,
   "metadata": {},
   "outputs": [],
   "source": []
  }
 ],
 "metadata": {
  "kernelspec": {
   "display_name": "Python 3",
   "language": "python",
   "name": "python3"
  },
  "language_info": {
   "codemirror_mode": {
    "name": "ipython",
    "version": 3
   },
   "file_extension": ".py",
   "mimetype": "text/x-python",
   "name": "python",
   "nbconvert_exporter": "python",
   "pygments_lexer": "ipython3",
   "version": "3.11.3"
  }
 },
 "nbformat": 4,
 "nbformat_minor": 2
}
