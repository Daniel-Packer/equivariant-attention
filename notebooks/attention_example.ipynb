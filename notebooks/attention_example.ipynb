{
 "cells": [
  {
   "cell_type": "code",
   "execution_count": 1,
   "metadata": {},
   "outputs": [
    {
     "name": "stdout",
     "output_type": "stream",
     "text": [
      "/cis/home/dpacker/my_documents/equivariant-attention\n"
     ]
    }
   ],
   "source": [
    "%load_ext autoreload\n",
    "%autoreload 2\n",
    "\n",
    "import os\n",
    "os.environ['CUDA_VISIBLE_DEVICES'] = '2'\n",
    "%cd .."
   ]
  },
  {
   "cell_type": "code",
   "execution_count": 19,
   "metadata": {},
   "outputs": [],
   "source": [
    "from models import translation_attention\n",
    "from models import positional_encodings\n",
    "import jax\n",
    "import jax.numpy as jnp\n",
    "import matplotlib.pyplot as plt\n",
    "\n",
    "rng = jax.random.PRNGKey(seed=123)\n",
    "rngs = jax.random.split(rng, 2)"
   ]
  },
  {
   "cell_type": "code",
   "execution_count": 53,
   "metadata": {},
   "outputs": [],
   "source": [
    "d = 5\n",
    "n = 80\n",
    "attention_model = translation_attention.TranslationAttention(rngs[0], d, n)\n",
    "\n",
    "fft_keys = attention_model.fft_keys\n",
    "fft_values = attention_model.fft_values\n",
    "beta = 1.\n",
    "\n",
    "f = lambda x : (jnp.roll(x, 1, axis=-1))"
   ]
  },
  {
   "cell_type": "code",
   "execution_count": 64,
   "metadata": {},
   "outputs": [],
   "source": [
    "N = 300\n",
    "x = jax.random.normal(rngs[1], shape=[N, d])\n",
    "x /= jnp.linalg.norm(x, axis=-1)[:, None]\n",
    "y = f(x)\n",
    "# x_enc = positional_encodings.positional_encoding(x, method=\"stereographic\")\n",
    "\n",
    "loss_hist = []\n",
    "for _ in range(2000):\n",
    "  loss_hist.append(translation_attention.loss([fft_keys, fft_values, beta], x, y).item())\n",
    "  fft_keys, fft_values, beta = translation_attention.update([fft_keys, fft_values, beta], x, y, 0.0001)"
   ]
  },
  {
   "cell_type": "code",
   "execution_count": 66,
   "metadata": {},
   "outputs": [
    {
     "data": {
      "text/plain": [
       "238.66616821289062"
      ]
     },
     "execution_count": 66,
     "metadata": {},
     "output_type": "execute_result"
    }
   ],
   "source": [
    "# translation_attention._batched_call_fn(x, fft_keys, fft_values)\n",
    "loss_hist[-1]"
   ]
  },
  {
   "cell_type": "code",
   "execution_count": null,
   "metadata": {},
   "outputs": [],
   "source": []
  },
  {
   "cell_type": "code",
   "execution_count": 67,
   "metadata": {},
   "outputs": [
    {
     "data": {
      "text/plain": [
       "[<matplotlib.lines.Line2D at 0x7f17ec15aa90>]"
      ]
     },
     "execution_count": 67,
     "metadata": {},
     "output_type": "execute_result"
    },
    {
     "data": {
      "image/png": "[encoded data removed]",
      "text/plain": [
       "<Figure size 640x480 with 1 Axes>"
      ]
     },
     "metadata": {},
     "output_type": "display_data"
    }
   ],
   "source": [
    "# plt.plot(x[0])\n",
    "plt.plot(y[0])\n",
    "plt.plot(translation_attention.call_fn(x[0], fft_keys, fft_values, beta))"
   ]
  },
  {
   "cell_type": "code",
   "execution_count": 66,
   "metadata": {},
   "outputs": [],
   "source": [
    "output = jnp.zeros(d)\n",
    "for i in range(d):\n",
    "  output += weights[i] * jnp.roll(values, i, axis = -1)\n",
    "  \n",
    "  \n",
    "fft_output = jnp.fft.ifft(jnp.fft.fft(weights) * jnp.fft.fft(values))"
   ]
  },
  {
   "cell_type": "code",
   "execution_count": 67,
   "metadata": {},
   "outputs": [
    {
     "data": {
      "text/plain": [
       "Array([[0.1488476 , 0.40460968, 0.1488476 , 0.1488476 , 0.1488476 ]],      dtype=float32)"
      ]
     },
     "execution_count": 67,
     "metadata": {},
     "output_type": "execute_result"
    }
   ],
   "source": [
    "output"
   ]
  },
  {
   "cell_type": "code",
   "execution_count": 68,
   "metadata": {},
   "outputs": [
    {
     "data": {
      "text/plain": [
       "Array([[[0.14884758+0.j, 0.40460968+0.j, 0.14884758+0.j, 0.14884758+0.j,\n",
       "         0.14884757+0.j]]], dtype=complex64)"
      ]
     },
     "execution_count": 68,
     "metadata": {},
     "output_type": "execute_result"
    }
   ],
   "source": [
    "fft_output"
   ]
  }
 ],
 "metadata": {
  "kernelspec": {
   "display_name": "pyml",
   "language": "python",
   "name": "python3"
  },
  "language_info": {
   "codemirror_mode": {
    "name": "ipython",
    "version": 3
   },
   "file_extension": ".py",
   "mimetype": "text/x-python",
   "name": "python",
   "nbconvert_exporter": "python",
   "pygments_lexer": "ipython3",
   "version": "3.11.6"
  }
 },
 "nbformat": 4,
 "nbformat_minor": 2
}
