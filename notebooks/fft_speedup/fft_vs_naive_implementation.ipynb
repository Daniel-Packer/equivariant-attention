{
 "cells": [
  {
   "cell_type": "code",
   "execution_count": 2,
   "metadata": {},
   "outputs": [
    {
     "name": "stdout",
     "output_type": "stream",
     "text": [
      "/home/ext-daniel-packer/documents/noteboooks/equivariant-attention/notebooks\n",
      "/home/ext-daniel-packer/documents/noteboooks/equivariant-attention\n"
     ]
    }
   ],
   "source": [
    "%load_ext autoreload\n",
    "%autoreload 2\n",
    "\n",
    "import os\n",
    "%cd ..\n",
    "%cd .."
   ]
  },
  {
   "cell_type": "code",
   "execution_count": 159,
   "metadata": {},
   "outputs": [],
   "source": [
    "from models import translation_attention, positional_encodings, vanilla_attention, naive_translation_attention\n",
    "import jax\n",
    "from jax import numpy as jnp, random\n",
    "import matplotlib.pyplot as plt\n",
    "from tqdm.notebook import tqdm\n",
    "from matplotlib import colormaps\n",
    "import numpy as np\n",
    "from jax.test_util import check_grads\n",
    "\n",
    "rngs = random.split(random.PRNGKey(seed=2), 10)\n",
    "%matplotlib inline"
   ]
  },
  {
   "cell_type": "code",
   "execution_count": 161,
   "metadata": {},
   "outputs": [
    {
     "data": {
      "text/plain": [
       "Array([ 0.15863173+0.j,  0.23471111+0.j, -0.00825388+0.j,  0.337291  +0.j,\n",
       "        0.3790324 +0.j], dtype=complex64)"
      ]
     },
     "execution_count": 161,
     "metadata": {},
     "output_type": "execute_result"
    }
   ],
   "source": [
    "d = 5\n",
    "n_keys = 10\n",
    "n_data_samples = 10\n",
    "\n",
    "x = random.normal(rngs[1], [n_data_samples, d])\n",
    "x = x / jnp.linalg.norm(x, axis = -1, keepdims = True)\n",
    "y = x\n",
    "\n",
    "model = naive_translation_attention.NaiveAttentionModel(rngs[0], n_keys, d, lr=0.05)\n",
    "\n",
    "check_grads(model.call_fn, (x[0], *model.params), order=1)\n",
    "\n",
    "# translation_attention.call_fn(x[0], jnp.fft.fft(model.keys, axis=-1), jnp.fft.fft(model.values, axis=-1), model.beta)\n",
    "# losses = []\n",
    "# for i in tqdm(range(10)):\n",
    "#     loss = model.train_step(x, y)\n",
    "#     losses.append(loss.item())\n"
   ]
  },
  {
   "cell_type": "code",
   "execution_count": 162,
   "metadata": {},
   "outputs": [
    {
     "data": {
      "text/plain": [
       "Array([0.299325  , 2.7302983 , 0.44635302, 3.9257455 , 3.1934037 ],      dtype=float32)"
      ]
     },
     "execution_count": 162,
     "metadata": {},
     "output_type": "execute_result"
    }
   ],
   "source": [
    "model.call_fn(x[0], model.keys, model.values, model.beta)"
   ]
  },
  {
   "cell_type": "code",
   "execution_count": 174,
   "metadata": {},
   "outputs": [],
   "source": [
    "def wrapped_nvolve(x, y):\n",
    "  return jax.scipy.signal.convolve(x, jnp.flip(jnp.concatenate([y, y])), mode=\"valid\")[:-1]\n",
    "\n",
    "# def func(x):\n",
    "#   return jax.scipy.signal.convolve(x[0], jnp.flip(jnp.concatenate([x[1], x[1]])), mode=\"valid\").sum()"
   ]
  },
  {
   "cell_type": "code",
   "execution_count": 176,
   "metadata": {},
   "outputs": [
    {
     "data": {
      "text/plain": [
       "Array([ 7.8511131e-01, -2.7613497e-01,  4.4733095e-01,  6.8750978e-04,\n",
       "       -4.8713326e-01], dtype=float32)"
      ]
     },
     "execution_count": 176,
     "metadata": {},
     "output_type": "execute_result"
    }
   ],
   "source": [
    "# check_grads(func, [x], order = 1)\n",
    "wrapped_nvolve(x[0], x[1])"
   ]
  },
  {
   "cell_type": "code",
   "execution_count": 179,
   "metadata": {},
   "outputs": [
    {
     "data": {
      "text/plain": [
       "Array([ 7.8511137e-01, -2.7613503e-01,  4.4733104e-01,  6.8750384e-04,\n",
       "       -4.8713332e-01], dtype=float32)"
      ]
     },
     "execution_count": 179,
     "metadata": {},
     "output_type": "execute_result"
    }
   ],
   "source": [
    "jnp.roll(jnp.fft.ifft(jnp.fft.fft(x[0]) * jnp.fft.fft(jnp.flip(x[1]))).real, 1)"
   ]
  },
  {
   "cell_type": "code",
   "execution_count": 169,
   "metadata": {},
   "outputs": [
    {
     "data": {
      "text/plain": [
       "Array([[1.7327075 , 0.6488017 , 1.4036094 , 0.75483954, 0.9737955 ],\n",
       "       [1.0206428 , 0.5632683 , 1.1908246 , 0.07584274, 0.21720785],\n",
       "       [0.        , 0.        , 0.        , 0.        , 0.        ],\n",
       "       [0.        , 0.        , 0.        , 0.        , 0.        ],\n",
       "       [0.        , 0.        , 0.        , 0.        , 0.        ],\n",
       "       [0.        , 0.        , 0.        , 0.        , 0.        ],\n",
       "       [0.        , 0.        , 0.        , 0.        , 0.        ],\n",
       "       [0.        , 0.        , 0.        , 0.        , 0.        ],\n",
       "       [0.        , 0.        , 0.        , 0.        , 0.        ],\n",
       "       [0.        , 0.        , 0.        , 0.        , 0.        ]],      dtype=float32)"
      ]
     },
     "execution_count": 169,
     "metadata": {},
     "output_type": "execute_result"
    }
   ],
   "source": [
    "jax.grad(func)(x)"
   ]
  },
  {
   "cell_type": "code",
   "execution_count": 148,
   "metadata": {},
   "outputs": [
    {
     "data": {
      "text/plain": [
       "Array(-0.8335539, dtype=float32)"
      ]
     },
     "execution_count": 148,
     "metadata": {},
     "output_type": "execute_result"
    }
   ],
   "source": [
    "jnp.dot(jnp.roll(x[0], 2), x[1])"
   ]
  },
  {
   "cell_type": "code",
   "execution_count": 128,
   "metadata": {},
   "outputs": [
    {
     "data": {
      "text/plain": [
       "[Text(0.5, 0, 'iteration'), Text(0, 0.5, 'loss'), None]"
      ]
     },
     "execution_count": 128,
     "metadata": {},
     "output_type": "execute_result"
    },
    {
     "data": {
      "image/png": "[encoded data removed]",
      "text/plain": [
       "<Figure size 640x480 with 1 Axes>"
      ]
     },
     "metadata": {},
     "output_type": "display_data"
    }
   ],
   "source": [
    "fig, ax = plt.subplots()\n",
    "ax.plot(losses)\n",
    "ax.set(xlabel='iteration', ylabel='loss',  yscale='log')"
   ]
  },
  {
   "cell_type": "code",
   "execution_count": 110,
   "metadata": {},
   "outputs": [
    {
     "data": {
      "text/plain": [
       "[Array([[ 1.30887294e+00,  4.83382083e-02,  5.15672982e-01,\n",
       "         -1.05046034e+00, -5.42906106e-01],\n",
       "        [-6.15593970e-01,  1.17650199e+00, -2.68675447e-01,\n",
       "          1.38517535e+00,  2.88998914e+00],\n",
       "        [ 1.97652650e+00, -3.88963550e-01, -7.20743299e-01,\n",
       "         -6.58611596e-01,  1.51448643e+00],\n",
       "        [ 2.11368132e+00,  3.63791645e-01, -5.67351937e-01,\n",
       "         -3.66456360e-01,  7.87808597e-02],\n",
       "        [ 1.05026118e-01, -1.37953651e+00,  8.08237553e-01,\n",
       "         -1.46414125e+00,  1.53571343e+00],\n",
       "        [-7.27021620e-02, -1.05765617e+00,  5.24525642e-01,\n",
       "          2.19811410e-01,  1.41750777e+00],\n",
       "        [ 1.17880893e+00, -5.46664774e-01, -4.91437882e-01,\n",
       "          4.92209017e-01, -1.90815598e-01],\n",
       "        [-7.40284681e-01, -1.29082870e+00, -9.53830361e-01,\n",
       "          7.48913959e-02, -2.36659944e-01],\n",
       "        [-2.33449268e+00,  1.11780477e+00, -3.99195343e-01,\n",
       "         -2.77748138e-01, -1.08091712e+00],\n",
       "        [-2.70700186e-01,  1.34123397e+00,  5.14080763e-01,\n",
       "          4.20833498e-01,  1.15554750e-01],\n",
       "        [-1.67704785e+00,  5.26172891e-02,  1.83729917e-01,\n",
       "          7.35683501e-01,  1.93046713e+00],\n",
       "        [-1.25794575e-01,  8.73096824e-01,  1.14764011e+00,\n",
       "         -7.10980415e-01,  1.01152253e+00],\n",
       "        [-2.43255466e-01,  4.06258315e-01,  2.42030501e-01,\n",
       "         -6.24989152e-01,  9.66787815e-01],\n",
       "        [ 2.89186168e+00, -1.72093499e+00,  8.56061161e-01,\n",
       "         -1.15573192e+00,  7.29751170e-01],\n",
       "        [-1.39326572e+00, -3.48321229e-01,  4.89523530e-01,\n",
       "         -1.46158957e+00,  7.91529119e-01],\n",
       "        [ 7.62045383e-01,  1.15297925e+00, -1.02542944e-01,\n",
       "          1.60509241e+00, -5.21833301e-01],\n",
       "        [ 9.92212296e-01, -3.97226363e-01,  2.56053030e-01,\n",
       "          2.04122260e-01,  2.06287098e+00],\n",
       "        [-2.72392333e-02,  6.92460239e-01, -1.02780008e+00,\n",
       "         -3.53280485e-01, -3.26941669e-01],\n",
       "        [ 3.22760820e-01,  5.76003551e-01,  8.27926040e-01,\n",
       "          1.35157835e+00, -2.56531741e-02],\n",
       "        [ 1.51944661e+00, -4.02580827e-01, -9.71873999e-01,\n",
       "          1.08860517e+00,  2.58985019e+00],\n",
       "        [-7.80149221e-01, -1.18457365e+00,  7.56642222e-01,\n",
       "          1.52222002e+00,  2.20750675e-01],\n",
       "        [ 1.13126445e+00, -1.14037943e+00, -7.83053041e-01,\n",
       "          1.21249899e-01,  1.59322202e+00],\n",
       "        [ 4.18687552e-01,  1.15542448e+00, -7.70217299e-01,\n",
       "         -2.41283640e-01,  2.65589148e-01],\n",
       "        [ 3.56460750e-01,  1.43479788e+00, -1.31714392e+00,\n",
       "         -3.45388576e-02,  7.78744876e-01],\n",
       "        [-2.75045633e+00,  2.99402297e-01,  1.20927191e+00,\n",
       "         -1.86727786e+00, -7.44955480e-01],\n",
       "        [ 1.45237613e+00, -7.97935307e-01, -2.83012360e-01,\n",
       "         -2.31516063e-01,  4.51522350e-01],\n",
       "        [ 3.24488319e-02,  8.24195266e-01, -3.68809700e-01,\n",
       "          1.56134951e+00, -2.79639333e-01],\n",
       "        [-1.51604557e+00, -1.97298586e-01,  1.81186855e-01,\n",
       "         -2.86749554e+00, -1.76344252e+00],\n",
       "        [-4.23800915e-01, -1.45235777e+00,  7.23105729e-01,\n",
       "         -1.52423406e+00, -1.32059717e+00],\n",
       "        [ 2.81253785e-01,  1.49897063e+00, -1.53417563e+00,\n",
       "         -8.03937137e-01,  2.05041289e+00],\n",
       "        [ 3.63387495e-01,  9.62419808e-01,  4.46890533e-01,\n",
       "          6.40926957e-01,  2.93854252e-02],\n",
       "        [-9.71545354e-02,  3.87616247e-01, -8.46471727e-01,\n",
       "         -1.19587517e+00,  4.10942018e-01],\n",
       "        [-8.75144154e-02, -1.62850007e-01, -2.12784672e+00,\n",
       "          1.52380681e+00, -4.20416802e-01],\n",
       "        [-5.23936391e-01, -6.48694932e-01,  6.30234361e-01,\n",
       "          5.92735410e-01, -3.68973792e-01],\n",
       "        [ 1.57643628e+00,  6.31563365e-01,  2.79177785e-01,\n",
       "         -1.29431975e+00, -3.55834335e-01],\n",
       "        [-1.00015193e-01, -1.19178200e+00,  2.63197780e-01,\n",
       "         -6.68802261e-01, -7.63786018e-01],\n",
       "        [ 5.72358727e-01, -8.87784302e-01, -1.49769771e+00,\n",
       "         -1.23567486e+00, -4.99581665e-01],\n",
       "        [ 1.95180997e-01, -2.70936698e-01,  7.71746814e-01,\n",
       "          2.72799402e-01, -3.47140074e-01],\n",
       "        [-1.39545631e+00,  3.43969226e-01, -2.13381767e+00,\n",
       "          1.44129205e+00,  2.83056676e-01],\n",
       "        [ 1.80882346e-02,  4.68642682e-01,  1.81139186e-01,\n",
       "          1.73458457e+00,  1.18170738e+00],\n",
       "        [ 8.63948584e-01,  1.30608574e-01, -5.90771616e-01,\n",
       "          2.03314096e-01, -1.37705898e+00],\n",
       "        [-8.15848112e-02, -7.33590245e-01, -9.94375527e-01,\n",
       "          1.75976202e-01,  1.60222709e-01],\n",
       "        [ 6.89443052e-01, -2.31704898e-02, -3.82175595e-01,\n",
       "          1.53190386e+00,  4.04196531e-01],\n",
       "        [-9.94567096e-01,  1.27156937e+00, -4.11055982e-01,\n",
       "          1.01942241e+00,  7.34150231e-01],\n",
       "        [ 7.54323959e-01, -5.64893544e-01,  3.81566703e-01,\n",
       "         -3.21290828e-02, -1.19330990e+00],\n",
       "        [ 7.59600759e-01,  2.11667538e-01, -3.99566561e-01,\n",
       "          1.03203738e+00, -1.24943268e+00],\n",
       "        [-6.90328419e-01,  7.28262305e-01,  4.65084225e-01,\n",
       "          7.48312414e-01, -7.88861811e-01],\n",
       "        [ 7.34227657e-01,  5.72150350e-01, -5.26496649e-01,\n",
       "          6.02282286e-01, -1.37224635e-02],\n",
       "        [-6.43797100e-01, -9.61731315e-01, -2.12466383e+00,\n",
       "          3.30465496e-01, -1.75309253e+00],\n",
       "        [-4.98349816e-01,  2.27705812e+00,  1.21451266e-01,\n",
       "         -1.02043962e+00, -1.37524891e+00],\n",
       "        [-8.56166601e-01, -4.43624854e-01, -4.51721370e-01,\n",
       "         -1.33183825e+00,  7.13927746e-01],\n",
       "        [-9.52257216e-01, -7.15420425e-01, -3.82555306e-01,\n",
       "          3.53463829e-01,  4.48333263e-01],\n",
       "        [ 6.83458030e-01, -4.30536360e-01,  3.17256302e-02,\n",
       "         -2.10797071e+00,  3.79631758e-01],\n",
       "        [-1.58644915e-01, -1.09645617e+00,  1.60689461e+00,\n",
       "          9.33536068e-02, -1.90076485e-01],\n",
       "        [-2.37683669e-01, -1.55833018e+00,  5.96450746e-01,\n",
       "          2.61695564e-01, -8.14870119e-01],\n",
       "        [ 1.59669542e+00, -1.18439004e-01, -2.08531618e-01,\n",
       "          2.38079131e-01, -1.32730678e-01],\n",
       "        [-7.29226694e-02,  1.24867940e+00, -4.49009538e-01,\n",
       "         -4.34008718e-01, -7.65491188e-01],\n",
       "        [ 3.39340806e-01,  3.86472315e-01, -1.77500486e+00,\n",
       "          5.02315938e-01,  9.75200608e-02],\n",
       "        [ 4.89161134e-01, -1.46189058e+00, -3.27663565e+00,\n",
       "         -5.53218722e-01,  5.11457026e-01],\n",
       "        [-9.13458645e-01, -5.66257119e-01,  3.02451938e-01,\n",
       "          1.04532167e-01, -1.65971801e-01],\n",
       "        [-3.24715465e-01,  8.89439166e-01, -1.19030547e+00,\n",
       "         -3.50348264e-01,  5.64254820e-01],\n",
       "        [-9.18629646e-01,  2.25993037e+00, -9.66884851e-01,\n",
       "         -1.52682915e-01, -1.14487195e+00],\n",
       "        [ 2.02151799e+00,  5.18226326e-01,  1.09423625e+00,\n",
       "          1.74202073e+00,  1.77211499e+00],\n",
       "        [-5.27451396e-01, -3.38217229e-01,  1.14846826e+00,\n",
       "          1.97753274e+00, -4.40583974e-01],\n",
       "        [ 1.09083974e+00,  6.35864377e-01,  2.03433380e-01,\n",
       "         -6.29367411e-01, -4.00094748e-01],\n",
       "        [ 1.62048340e-02,  1.68281460e+00,  1.32391930e+00,\n",
       "          3.87189277e-02, -6.04139864e-01],\n",
       "        [-1.85857737e+00,  3.65827680e-01,  1.59343362e+00,\n",
       "         -3.35855275e-01,  1.19395101e+00],\n",
       "        [-1.33841228e+00, -6.80929780e-01, -5.70340276e-01,\n",
       "          9.38137352e-01, -7.21151710e-01],\n",
       "        [ 1.47199094e+00,  5.39944589e-01,  1.55750000e+00,\n",
       "          2.88755596e-01,  2.09348738e-01],\n",
       "        [-3.16862017e-01, -1.11163795e-01, -4.80876148e-01,\n",
       "          1.78674757e-01, -1.91385531e+00],\n",
       "        [-4.56640184e-01, -4.27396208e-01,  1.52252960e+00,\n",
       "         -1.68607080e+00,  1.04883873e+00],\n",
       "        [-2.30646327e-01,  5.77674150e-01, -5.11559665e-01,\n",
       "         -1.04007542e+00,  1.04811740e+00],\n",
       "        [ 7.64739513e-02,  9.93189454e-01, -1.50938988e+00,\n",
       "          5.50229728e-01, -2.52726316e-01],\n",
       "        [-1.68190336e+00, -1.26840985e+00, -9.37653720e-01,\n",
       "          6.67673886e-01, -1.01891983e+00],\n",
       "        [ 3.23562682e-01, -5.36773205e-01,  3.30141425e-01,\n",
       "          1.65326083e+00, -2.12856030e+00],\n",
       "        [-7.19664991e-01,  8.37545872e-01, -9.89039958e-01,\n",
       "          1.18190992e+00, -6.41585946e-01],\n",
       "        [-6.91263855e-01,  6.33154929e-01,  8.46191108e-01,\n",
       "          9.14348125e-01, -4.85888600e-01],\n",
       "        [-5.53199530e-01,  8.02059650e-01, -1.23790931e-03,\n",
       "         -1.88936546e-01, -8.37343633e-01],\n",
       "        [-1.80488956e+00,  6.62184119e-01, -3.66283506e-01,\n",
       "         -1.34068370e-01, -1.04221177e+00],\n",
       "        [-1.57916307e-01, -2.86350876e-01,  8.29221606e-01,\n",
       "          9.61426914e-01, -4.07934189e-01]], dtype=float32),\n",
       " Array([[ 1.96848822e+00, -4.77233112e-01, -9.35735464e-01,\n",
       "          1.72413552e+00,  6.64723754e-01],\n",
       "        [-7.40145624e-01,  1.57562709e+00, -1.80067098e+00,\n",
       "          6.17662728e-01,  1.37332010e+00],\n",
       "        [-5.35154998e-01, -6.11128688e-01, -2.68420190e-01,\n",
       "         -7.78501511e-01, -9.95314121e-02],\n",
       "        [ 1.71604782e-01, -1.18941581e+00, -6.35625005e-01,\n",
       "         -4.79013264e-01,  1.27605066e-01],\n",
       "        [-2.53603053e+00, -3.95961493e-01,  2.60544509e-01,\n",
       "          4.08424735e-01, -8.32243681e-01],\n",
       "        [ 1.65273368e-01,  1.29463577e+00,  9.76253927e-01,\n",
       "          1.16816998e+00, -5.30567348e-01],\n",
       "        [ 5.78807533e-01, -3.67311001e-01,  7.05097556e-01,\n",
       "         -1.46352100e+00, -1.06926644e+00],\n",
       "        [ 4.91549373e-02, -2.29345694e-01,  4.47290093e-01,\n",
       "         -9.07342494e-01, -1.08190858e+00],\n",
       "        [ 2.53571898e-01,  1.42298356e-01, -3.20838183e-01,\n",
       "         -9.49254811e-01,  2.66957551e-01],\n",
       "        [ 1.56092322e+00, -6.42552495e-01, -2.54693240e-01,\n",
       "         -6.76465333e-01,  3.40939373e-01],\n",
       "        [ 1.23602077e-01,  7.03809559e-01,  8.91104564e-02,\n",
       "          1.90924680e+00,  1.31734478e+00],\n",
       "        [ 1.91341627e+00, -2.24344432e-01, -1.38558447e+00,\n",
       "          6.00879669e-01,  1.94243169e+00],\n",
       "        [-1.46689162e-01, -1.40440440e+00, -1.63666666e+00,\n",
       "          1.76702666e+00,  1.08369339e+00],\n",
       "        [ 9.74469543e-01, -9.71724153e-01,  4.91647050e-03,\n",
       "          4.12024647e-01, -1.29955977e-01],\n",
       "        [-7.50209913e-02, -1.52269483e+00, -4.24788684e-01,\n",
       "         -1.12020993e+00,  9.02999580e-01],\n",
       "        [-5.81590116e-01,  2.97826052e-01, -1.48552263e+00,\n",
       "          8.09758306e-01, -5.62125623e-01],\n",
       "        [ 9.41024274e-02, -8.94124061e-02,  2.12685242e-02,\n",
       "         -1.88370275e+00, -1.58121979e+00],\n",
       "        [ 1.98075429e-01,  2.03148033e-02, -4.59475338e-01,\n",
       "          1.80872858e+00, -1.16567743e+00],\n",
       "        [-5.14901280e-01,  2.11985828e-03,  1.65735930e-01,\n",
       "          1.36735916e+00, -5.60263097e-01],\n",
       "        [-6.93204641e-01, -1.01353550e+00, -3.56997162e-01,\n",
       "          1.51379585e-01,  4.17301625e-01],\n",
       "        [-2.47779652e-01,  1.02983868e+00,  4.60883588e-01,\n",
       "          2.21337438e+00,  4.70156521e-02],\n",
       "        [ 5.79940259e-01,  1.94941902e+00,  1.54361427e+00,\n",
       "          6.08164743e-02, -1.21478713e+00],\n",
       "        [ 3.53096485e-01, -1.55197787e+00,  1.07255846e-01,\n",
       "          1.25433826e+00, -1.09772813e+00],\n",
       "        [ 9.63125825e-02,  1.16946101e+00,  7.35437989e-01,\n",
       "          1.00246891e-01,  4.71478611e-01],\n",
       "        [-1.29609227e+00,  2.93942809e-01,  4.62636203e-01,\n",
       "         -9.81977403e-01,  2.06182337e+00],\n",
       "        [-3.46144319e-01, -1.35619414e+00, -1.48494422e-01,\n",
       "          9.23215449e-02, -7.61549473e-02],\n",
       "        [ 4.38506097e-01, -1.72403431e+00, -3.34441781e-01,\n",
       "          2.31415570e-01,  1.32591820e+00],\n",
       "        [-1.38169140e-01,  4.82674032e-01, -6.92786276e-01,\n",
       "         -1.58498418e+00,  1.33557951e+00],\n",
       "        [ 1.10349491e-01,  1.76553655e+00, -7.46315539e-01,\n",
       "          1.58123386e+00, -6.76011264e-01],\n",
       "        [ 6.63660109e-01,  1.95737436e-01, -1.52972102e+00,\n",
       "         -8.09120417e-01,  1.90535486e-01],\n",
       "        [-1.75703907e+00,  2.38753319e-01,  4.98268098e-01,\n",
       "          4.95775253e-01, -4.35839929e-02],\n",
       "        [ 6.30888268e-02,  5.03520429e-01,  4.31031942e-01,\n",
       "         -1.32989752e+00, -1.71864510e-01],\n",
       "        [ 1.27768353e-01, -8.93837214e-01, -1.25455773e+00,\n",
       "          1.68754506e+00, -1.10910177e+00],\n",
       "        [ 8.76785278e-01, -5.89425147e-01, -2.99114943e-01,\n",
       "         -6.98571131e-02,  1.26295638e+00],\n",
       "        [ 2.62599850e+00,  9.11984205e-01,  4.47934538e-01,\n",
       "          4.45061550e-03,  3.85284781e-01],\n",
       "        [-8.44320238e-01,  1.32360435e+00, -4.79700416e-01,\n",
       "         -2.31620693e+00, -2.76960641e-01],\n",
       "        [-1.62267029e+00, -4.52690482e-01,  1.73451996e+00,\n",
       "          1.70720208e+00,  1.72804010e+00],\n",
       "        [ 9.18724179e-01, -3.59729081e-01, -1.15667510e+00,\n",
       "         -6.80974185e-01,  4.66654330e-01],\n",
       "        [-1.98397070e-01,  1.46431017e+00,  1.15542388e+00,\n",
       "         -3.44403088e-01,  3.07359010e-01],\n",
       "        [-7.05726564e-01,  1.30420804e-01,  1.38010120e+00,\n",
       "         -6.66335583e-01, -4.33182478e-01],\n",
       "        [ 2.16460299e+00,  1.10477960e+00,  5.87450206e-01,\n",
       "         -2.52328086e+00, -5.96554101e-01],\n",
       "        [ 3.60068500e-01, -6.88528657e-01,  1.98489279e-01,\n",
       "          3.32969129e-01, -5.21536432e-02],\n",
       "        [ 3.58073980e-01,  1.00551915e+00, -6.33394718e-01,\n",
       "          7.97156036e-01, -5.71302176e-01],\n",
       "        [ 9.01340544e-01, -5.22458673e-01,  9.54735577e-01,\n",
       "          2.37659669e+00,  2.08945465e+00],\n",
       "        [-3.98145169e-01,  6.39081955e-01,  2.38078870e-02,\n",
       "         -1.12437594e+00,  1.77358389e-01],\n",
       "        [ 1.28350973e+00, -9.23597276e-01, -1.61786377e+00,\n",
       "          4.89325166e-01, -7.95702562e-02],\n",
       "        [-7.41650641e-01, -2.75388628e-01, -1.61242151e+00,\n",
       "          2.16411519e+00, -1.45960033e+00],\n",
       "        [ 3.65686774e-01, -1.56058237e-01,  1.36312580e+00,\n",
       "         -2.68670827e-01,  4.06552315e-01],\n",
       "        [ 1.03139889e+00,  3.71061534e-01, -6.36464834e-01,\n",
       "         -1.34001231e+00, -3.07849552e-02],\n",
       "        [ 7.99993038e-01, -1.30217537e-01,  2.28514624e+00,\n",
       "          5.02300382e-01,  1.10756946e+00],\n",
       "        [ 1.04313517e+00, -6.80614412e-01,  1.16130447e+00,\n",
       "          2.27407765e+00, -3.06163013e-01],\n",
       "        [-3.28085214e-01,  2.32949823e-01, -1.44790924e+00,\n",
       "         -6.67278290e-01, -1.29935348e+00],\n",
       "        [-9.07551289e-01, -4.54254925e-01, -7.56878853e-01,\n",
       "          1.10542619e+00, -1.55764925e+00],\n",
       "        [ 1.12476587e+00, -2.24171019e+00,  9.08072650e-01,\n",
       "          8.76977026e-01,  1.88305199e+00],\n",
       "        [-3.02746445e-01, -1.25410569e+00,  7.84203947e-01,\n",
       "         -3.40805101e+00,  1.08939297e-01],\n",
       "        [-9.88713861e-01,  6.32855445e-02, -2.24667400e-01,\n",
       "         -3.03998947e-01, -1.43774128e+00],\n",
       "        [-1.77843761e+00, -2.25403380e+00, -1.15959394e+00,\n",
       "          9.32952702e-01,  1.29484439e+00],\n",
       "        [ 8.61937404e-01,  1.67835581e+00,  4.66018707e-01,\n",
       "         -1.31133533e+00,  3.27469036e-02],\n",
       "        [ 1.43535352e+00, -5.27030110e-01,  1.30818856e+00,\n",
       "         -8.71410608e-01, -5.79198182e-01],\n",
       "        [-1.49779952e+00, -4.12768513e-01,  4.49933320e-01,\n",
       "          2.50231647e+00, -1.13131888e-01],\n",
       "        [ 1.82071781e+00, -5.10139428e-02,  7.30064139e-02,\n",
       "         -4.05946016e-01,  8.95139933e-01],\n",
       "        [ 1.52378023e+00, -3.50075692e-01,  1.04644406e+00,\n",
       "          7.40326941e-01,  1.50239801e+00],\n",
       "        [ 1.90522715e-01, -1.34119689e+00, -8.80215526e-01,\n",
       "          1.72410250e-01,  7.09301114e-01],\n",
       "        [ 2.07473350e+00, -1.14396237e-01,  1.81749499e+00,\n",
       "         -7.12440431e-01, -1.90446794e-01],\n",
       "        [ 9.92594063e-01, -9.32434499e-01, -8.32109034e-01,\n",
       "         -1.70514929e+00,  1.86384827e-01],\n",
       "        [-1.71999884e+00, -1.14524901e+00, -6.47066116e-01,\n",
       "          2.37685680e-01, -2.21191153e-01],\n",
       "        [-2.39132690e+00,  1.99989021e+00,  1.74714243e+00,\n",
       "         -1.41592836e+00,  1.41029644e+00],\n",
       "        [ 7.77212262e-01,  1.75596631e+00, -1.09322143e+00,\n",
       "          1.08570170e+00,  3.59593749e-01],\n",
       "        [ 1.15022790e+00, -2.72668093e-01, -1.14227653e+00,\n",
       "          6.05476499e-02,  2.05899805e-01],\n",
       "        [ 1.45154119e+00,  4.01174426e-01,  3.55133265e-01,\n",
       "          1.90867782e-01, -7.84633875e-01],\n",
       "        [-2.45795786e-01,  4.84008968e-01, -2.34268889e-01,\n",
       "          3.33518714e-01, -1.97596475e-02],\n",
       "        [-6.93317056e-01,  6.23031080e-01,  2.83618122e-01,\n",
       "          8.73360634e-01, -5.60560584e-01],\n",
       "        [ 1.27475607e+00,  6.52540147e-01, -2.47946644e+00,\n",
       "         -8.13863426e-02, -1.13827848e+00],\n",
       "        [-1.88941991e+00, -2.21570253e-01,  1.62532425e+00,\n",
       "         -1.26668644e+00,  2.05837533e-01],\n",
       "        [ 1.58809081e-01,  4.55802768e-01,  5.11257768e-01,\n",
       "         -1.80947363e+00,  2.20589936e-01],\n",
       "        [-1.54737115e+00, -8.94242644e-01,  2.67368793e-01,\n",
       "         -9.02401209e-01, -9.04091001e-02],\n",
       "        [ 4.42099601e-01,  2.57029802e-01,  2.22072348e-01,\n",
       "          6.50081277e-01,  1.25490999e+00],\n",
       "        [-1.57387030e+00, -1.24777257e+00, -1.86878335e+00,\n",
       "         -6.17349088e-01,  2.98431158e-01],\n",
       "        [ 4.66567367e-01,  5.48723340e-01,  6.30792454e-02,\n",
       "         -1.79134011e+00, -1.74194121e+00],\n",
       "        [-1.79787493e+00,  9.95184839e-01,  1.69554591e-01,\n",
       "         -8.69457126e-01,  7.19210446e-01]], dtype=float32),\n",
       " Array(1., dtype=float32, weak_type=True)]"
      ]
     },
     "execution_count": 110,
     "metadata": {},
     "output_type": "execute_result"
    }
   ],
   "source": []
  },
  {
   "cell_type": "code",
   "execution_count": null,
   "metadata": {},
   "outputs": [],
   "source": []
  }
 ],
 "metadata": {
  "kernelspec": {
   "display_name": "stats",
   "language": "python",
   "name": "python3"
  },
  "language_info": {
   "codemirror_mode": {
    "name": "ipython",
    "version": 3
   },
   "file_extension": ".py",
   "mimetype": "text/x-python",
   "name": "python",
   "nbconvert_exporter": "python",
   "pygments_lexer": "ipython3",
   "version": "3.11.5"
  }
 },
 "nbformat": 4,
 "nbformat_minor": 2
}
