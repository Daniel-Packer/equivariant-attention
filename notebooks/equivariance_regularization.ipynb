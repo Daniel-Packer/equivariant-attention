{
 "cells": [
  {
   "cell_type": "code",
   "execution_count": 1,
   "metadata": {},
   "outputs": [
    {
     "name": "stdout",
     "output_type": "stream",
     "text": [
      "/home/ext-daniel-packer/documents\n",
      "/home/ext-daniel-packer/documents/Github/equivariant-attention\n"
     ]
    }
   ],
   "source": [
    "%load_ext autoreload\n",
    "%autoreload 2\n",
    "\n",
    "import os\n",
    "os.environ['CUDA_VISIBLE_DEVICES'] = '2'\n",
    "%cd ..\n",
    "%cd Github/equivariant-attention"
   ]
  },
  {
   "cell_type": "code",
   "execution_count": 2,
   "metadata": {},
   "outputs": [
    {
     "name": "stderr",
     "output_type": "stream",
     "text": [
      "CUDA backend failed to initialize: Unable to load CUDA. (Set TF_CPP_MIN_LOG_LEVEL=0 and rerun for more info.)\n"
     ]
    }
   ],
   "source": [
    "from models import rotation_attention, positional_encodings\n",
    "import jax\n",
    "import jax.numpy as jnp\n",
    "import matplotlib.pyplot as plt\n",
    "from matplotlib import colormaps, animation\n",
    "rng = jax.random.PRNGKey(seed=1)\n",
    "rngs = jax.random.split(rng, 10)"
   ]
  },
  {
   "cell_type": "code",
   "execution_count": 7,
   "metadata": {},
   "outputs": [
    {
     "data": {
      "text/plain": [
       "[CpuDevice(id=0)]"
      ]
     },
     "execution_count": 7,
     "metadata": {},
     "output_type": "execute_result"
    }
   ],
   "source": [
    "jax.devices()"
   ]
  },
  {
   "cell_type": "code",
   "execution_count": null,
   "metadata": {},
   "outputs": [],
   "source": [
    "n_samples = 10\n",
    "n_keys = 5\n",
    "n_group_samples = 10\n",
    "d = 2\n",
    "\n",
    "key_reps = rotation_attention.group_samples(n_group_samples, 1)\n",
    "\n",
    "value_reps = rotation_attention.group_samples(n_group_samples, 0)\n",
    "keys = jax.random.normal(rngs[1], shape = [n_keys, d + 1])\n",
    "values = jax.random.normal(rngs[2], shape = [n_keys, d])\n",
    "\n",
    "X_train = positional_encodings.uniform_ball_samples(rngs[0], n_samples, d = d, r = 1.)\n",
    "X_train_encoded = positional_encodings.positional_encoding(X_train, method = \"stereographic\")\n",
    "\n",
    "X_test = positional_encodings.uniform_ball_samples(rngs[1], n_samples, d = d, r = 1.)\n",
    "X_test_encoded = positional_encodings.positional_encoding(X_test, method = \"stereographic\")\n",
    "\n",
    "rotation = rotation_attention.group_samples(260, 0)[57]\n",
    "f = lambda x : rotation @ x * jnp.linalg.norm(x)\n",
    "\n",
    "\n",
    "Y_train = jax.vmap(f)(X_train)\n",
    "noise = jax.random.normal(rngs[2], shape=Y_train.shape) * 0.1\n",
    "Y_test = jax.vmap(f)(X_test)"
   ]
  }
 ],
 "metadata": {
  "kernelspec": {
   "display_name": "Python (jax-env)",
   "language": "python",
   "name": "jaxkernel"
  },
  "language_info": {
   "codemirror_mode": {
    "name": "ipython",
    "version": 3
   },
   "file_extension": ".py",
   "mimetype": "text/x-python",
   "name": "python",
   "nbconvert_exporter": "python",
   "pygments_lexer": "ipython3",
   "version": "3.11.5"
  }
 },
 "nbformat": 4,
 "nbformat_minor": 2
}
